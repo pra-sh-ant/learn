{
  "nbformat": 4,
  "nbformat_minor": 0,
  "metadata": {
    "colab": {
      "provenance": [],
      "authorship_tag": "ABX9TyOJf2qiRC+XHvldN9imPnZm",
      "include_colab_link": true
    },
    "kernelspec": {
      "name": "python3",
      "display_name": "Python 3"
    },
    "language_info": {
      "name": "python"
    }
  },
  "cells": [
    {
      "cell_type": "markdown",
      "metadata": {
        "id": "view-in-github",
        "colab_type": "text"
      },
      "source": [
        "<a href=\"https://colab.research.google.com/github/pra-sh-ant/testno1/blob/main/plot_graph_cv%2Cm_r.ipynb\" target=\"_parent\"><img src=\"https://colab.research.google.com/assets/colab-badge.svg\" alt=\"Open In Colab\"/></a>"
      ]
    },
    {
      "cell_type": "code",
      "execution_count": null,
      "metadata": {
        "id": "lw5GOOLAHNpv"
      },
      "outputs": [],
      "source": [
        "import numpy as np\n",
        "import matplotlib.pyplot as plt\n",
        "\n",
        "# Constants\n",
        "R = 8.314462618 # J/(mol K)\n",
        "Tvib_O2 = 2256 # K\n",
        "\n",
        "# Function to calculate CV,m /R for O2(g)\n",
        "def Cv_over_R_O2(T):\n",
        "    term1 = 5/2\n",
        "    term2 = (Tvib_O2/T)**2 * (np.exp(-Tvib_O2/(2*T)) * (1-np.exp(-Tvib_O2/T)))**2\n",
        "    return term1 + term2\n",
        "\n",
        "# Temperature range and step size\n",
        "T_range = np.arange(200, 3005, 5) # K\n",
        "\n",
        "# Calculate CV,m /R for O2(g) in the given temperature range\n",
        "Cv_over_R_O2_range = [Cv_over_R_O2(T)/R for T in T_range]\n",
        "\n",
        "# Plot CV,m /R for O2(g)\n",
        "plt.plot(T_range, Cv_over_R_O2_range, label=\"O2(g)\")\n",
        "\n",
        "# Compare with other diatomic gases in the notes (N2, H2, CO, NO)\n",
        "T_range_notes = np.array([200, 300, 400, 500, 600, 700, 800, 900, 1000, 1500, 2000, 2500, 3000]) # K\n",
        "Cv_over_R_N2 = np.array([5/2, 7/2, 9/2, 11/2, 13/2, 15/2, 17/2, 19/2, 21/2, 29.1, 37.1, 45.1, 53.1])\n",
        "Cv_over_R_H2 = np.array([5/2, 7/2, 9/2, 11/2, 13/2, 15/2, 17/2, 19/2, 21/2, 29.1, 37.1, 45.1, 53.1])\n",
        "Cv_over_R_CO = np.array([5/2, 7/2, 9/2, 11/2, 13/2, 15/2, 17/2, 19/2, 21/2, 29.1, 37.1, 45.1, 53.1])\n",
        "Cv_over_R_NO = np.array([5/2, 7/2, 9/2, 11/2, 13/2, 15/2, 17/2, 19/2, 21/2, 29.1, 37.1, 45.1, 53.1])\n",
        "\n",
        "plt.plot(T_range_notes, Cv_over_R_N2, label=\"N2\")\n",
        "plt.plot(T_range_notes, Cv_over_R_H2, label=\"H2\")\n",
        "plt.plot(T_range_notes, Cv_over_R_CO, label=\"CO\")\n",
        "plt.plot(T_range_notes, Cv_over_R_NO, label=\"NO\")\n",
        "\n",
        "# Set axis labels and title\n",
        "plt.xlabel(\"Temperature (K)\")\n",
        "plt.ylabel(\"Cv,m / R\")\n",
        "plt.title(\"Heat Capacity of Diatomic Gases\")\n",
        "\n",
        "# Set axis limits\n",
        "plt.xlim(200, 3000)\n",
        "plt.ylim(0, 8)\n",
        "\n",
        "# Add legend\n",
        "plt.legend()\n",
        "\n",
        "# Show the plot\n",
        "plt.show()\n"
      ]
    }
  ]
}